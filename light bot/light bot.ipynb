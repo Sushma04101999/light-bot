{
  "nbformat": 4,
  "nbformat_minor": 0,
  "metadata": {
    "colab": {
      "name": "lit bot major project.ipynb",
      "provenance": [],
      "collapsed_sections": []
    },
    "kernelspec": {
      "name": "python3",
      "display_name": "Python 3"
    }
  },
  "cells": [
    {
      "cell_type": "code",
      "metadata": {
        "id": "MBiJXpZZYEDw",
        "colab_type": "code",
        "colab": {
          "base_uri": "https://localhost:8080/",
          "height": 356
        },
        "outputId": "927a8a50-954e-4476-f278-8c1ad021277a"
      },
      "source": [
        "\n",
        "!pip3 install adafruit.io\n",
        "from Adafruit_IO import RequestError, Client, Feed\n",
        "from Adafruit_IO import Data\n",
        "username = \"Sushma_410\"                  \n",
        "code = \"aio_kwOb68Ls6LPa4C22A9CgbMVXZfX1\"   \n",
        "aio = Client(username,code)\n",
        "\n",
        "!pip install python-telegram-bot\n",
        "from telegram.ext import Updater,CommandHandler\n",
        "import requests\n",
        "\n",
        "def get_url():\n",
        "\n",
        "    url = contents['url']\n",
        "    return url\n",
        "\n",
        "def on(bot,update):\n",
        "  \n",
        "    chat_id = update.message.chat_id\n",
        "    txt = 'light is turning on'\n",
        "    pic = 'https://upload.wikimedia.org/wikipedia/commons/thumb/5/5d/Green_sphere.svg/1024px-Green_sphere.svg.png'\n",
        "    bot.send_message(chat_id,txt)\n",
        "    bot.send_photo(chat_id,pic)\n",
        "    value = Data(value=1)\n",
        "    value_send = aio.create_data('lit',value)\n",
        "\n",
        "def off(bot,update):\n",
        "  \n",
        "    chat_id = update.message.chat_id\n",
        "    txt = 'light is turning off'\n",
        "    pic = 'https://encrypted-tbn0.gstatic.com/images?q=tbn%3AANd9GcTuueKIndqjMG0rlzPZrO0UUFP6ts8b_CrUIQ&usqp=CAU'\n",
        "    bot.send_message(chat_id,txt)\n",
        "    bot.send_photo(chat_id,pic)\n",
        "    value = Data(value=0)\n",
        "    value_send = aio.create_data('lit',value)\n",
        "\n",
        "u = Updater('1354703865:AAFWOJc4CKD6kWKOiEPQS2f6Z7OFL6pUUWo')  \n",
        "dp = u.dispatcher\n",
        "dp.add_handler(CommandHandler('on',on))\n",
        "dp.add_handler(CommandHandler('off',off))\n",
        "u.start_polling()\n",
        "u.idle()\n"
      ],
      "execution_count": null,
      "outputs": [
        {
          "output_type": "stream",
          "text": [
            "Processing /root/.cache/pip/wheels/05/e7/46/cd3dced11f962217204288f5faee41e56fbad8f7201f510619/adafruit_io-2.4.0-cp36-none-any.whl\n",
            "Requirement already satisfied: paho-mqtt in /usr/local/lib/python3.6/dist-packages (from adafruit.io) (1.5.0)\n",
            "Requirement already satisfied: requests in /usr/local/lib/python3.6/dist-packages (from adafruit.io) (2.23.0)\n",
            "Requirement already satisfied: idna<3,>=2.5 in /usr/local/lib/python3.6/dist-packages (from requests->adafruit.io) (2.10)\n",
            "Requirement already satisfied: urllib3!=1.25.0,!=1.25.1,<1.26,>=1.21.1 in /usr/local/lib/python3.6/dist-packages (from requests->adafruit.io) (1.24.3)\n",
            "Requirement already satisfied: chardet<4,>=3.0.2 in /usr/local/lib/python3.6/dist-packages (from requests->adafruit.io) (3.0.4)\n",
            "Requirement already satisfied: certifi>=2017.4.17 in /usr/local/lib/python3.6/dist-packages (from requests->adafruit.io) (2020.6.20)\n",
            "Installing collected packages: adafruit.io\n",
            "Successfully installed adafruit.io\n",
            "Requirement already satisfied: python-telegram-bot in /usr/local/lib/python3.6/dist-packages (12.8)\n",
            "Requirement already satisfied: tornado>=5.1 in /usr/local/lib/python3.6/dist-packages (from python-telegram-bot) (5.1.1)\n",
            "Requirement already satisfied: cryptography in /usr/local/lib/python3.6/dist-packages (from python-telegram-bot) (3.1)\n",
            "Requirement already satisfied: certifi in /usr/local/lib/python3.6/dist-packages (from python-telegram-bot) (2020.6.20)\n",
            "Requirement already satisfied: decorator>=4.4.0 in /usr/local/lib/python3.6/dist-packages (from python-telegram-bot) (4.4.2)\n",
            "Requirement already satisfied: six>=1.4.1 in /usr/local/lib/python3.6/dist-packages (from cryptography->python-telegram-bot) (1.15.0)\n",
            "Requirement already satisfied: cffi!=1.11.3,>=1.8 in /usr/local/lib/python3.6/dist-packages (from cryptography->python-telegram-bot) (1.14.2)\n",
            "Requirement already satisfied: pycparser in /usr/local/lib/python3.6/dist-packages (from cffi!=1.11.3,>=1.8->cryptography->python-telegram-bot) (2.20)\n"
          ],
          "name": "stdout"
        },
        {
          "output_type": "stream",
          "text": [
            "/usr/local/lib/python3.6/dist-packages/ipykernel_launcher.py:38: TelegramDeprecationWarning: Old Handler API is deprecated - see https://git.io/fxJuV for details\n",
            "Exiting immediately!\n"
          ],
          "name": "stderr"
        }
      ]
    },
    {
      "cell_type": "code",
      "metadata": {
        "id": "bw8hGWwkobLs",
        "colab_type": "code",
        "colab": {}
      },
      "source": [
        "from google.colab import drive\n",
        "drive.mount('/content/drive')"
      ],
      "execution_count": null,
      "outputs": []
    }
  ]
}